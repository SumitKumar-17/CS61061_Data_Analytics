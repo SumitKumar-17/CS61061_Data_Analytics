{
 "cells": [
  {
   "cell_type": "code",
   "execution_count": 29,
   "id": "e02216cb-8a43-45f8-bb27-7659b79418de",
   "metadata": {},
   "outputs": [],
   "source": [
    "import pandas as pd\n",
    "import numpy as np\n",
    "\n",
    "# Assuming you have a CSV file named 'dataset.csv' in the same directory\n",
    "df = pd.read_csv('dataset.csv')\n",
    "\n",
    "# Now you can work with the DataFrame 'df'\n",
    "# For example, you can print the first 5 rows:\n",
    "# print(df.head(100))\n",
    "\n",
    "\n"
   ]
  },
  {
   "cell_type": "code",
   "execution_count": 30,
   "id": "b0595a53-1b13-4e32-adee-7c9aea5ee138",
   "metadata": {},
   "outputs": [
    {
     "name": "stdout",
     "output_type": "stream",
     "text": [
      "    age         workclass     education  educationno       maritalstatus  \\\n",
      "0    39         State-gov     Bachelors           13       Never-married   \n",
      "1    50  Self-emp-not-inc     Bachelors           13  Married-civ-spouse   \n",
      "2    38           Private       HS-grad            9            Divorced   \n",
      "3    53           Private          11th            7  Married-civ-spouse   \n",
      "4    28           Private     Bachelors           13  Married-civ-spouse   \n",
      "..  ...               ...           ...          ...                 ...   \n",
      "95   20           Private  Some-college           10       Never-married   \n",
      "96   29           Private       HS-grad            9       Never-married   \n",
      "97   32      Self-emp-inc       HS-grad            9  Married-civ-spouse   \n",
      "98   30           Private          11th            7       Never-married   \n",
      "99   31         Local-gov       HS-grad            9                 NaN   \n",
      "\n",
      "           occupation   relationship   race     sex  capitalgain  capitalloss  \\\n",
      "0        Adm-clerical  Not-in-family  White    Male         2174            0   \n",
      "1     Exec-managerial        Husband  White    Male            0            0   \n",
      "2   Handlers-cleaners  Not-in-family  White    Male            0            0   \n",
      "3   Handlers-cleaners        Husband  Black    Male            0            0   \n",
      "4      Prof-specialty           Wife  Black  Female            0            0   \n",
      "..                ...            ...    ...     ...          ...          ...   \n",
      "95       Tech-support      Own-child  White  Female            0            0   \n",
      "96       Craft-repair  Not-in-family  White    Male            0            0   \n",
      "97       Craft-repair        Husband  White    Male         7688            0   \n",
      "98  Handlers-cleaners      Own-child  White    Male            0            0   \n",
      "99       Adm-clerical  Not-in-family  White  Female            0            0   \n",
      "\n",
      "    hoursperweek         native Possibility  criminal  \n",
      "0           40.0  United-States       <=0.5         0  \n",
      "1           13.0  United-States       <=0.5         0  \n",
      "2           40.0  United-States       <=0.5         0  \n",
      "3           40.0  United-States       <=0.5         0  \n",
      "4           40.0           Cuba       <=0.5         0  \n",
      "..           ...            ...         ...       ...  \n",
      "95          40.0  United-States       <=0.5         0  \n",
      "96          40.0  United-States       <=0.5         0  \n",
      "97          40.0  United-States        >0.5         1  \n",
      "98          40.0  United-States       <=0.5         0  \n",
      "99          40.0  United-States       <=0.5         0  \n",
      "\n",
      "[100 rows x 15 columns]\n"
     ]
    }
   ],
   "source": [
    "# Assuming you have a DataFrame named 'df' with a column 'Possibility'\n",
    "df['criminal'] = df['Possibility'].apply(lambda x: 0 if x == '<=0.5' else 1)\n",
    "\n",
    "# Now the 'criminal' column is added to your existing DataFrame 'df'\n",
    "print(df.head(100))\n"
   ]
  },
  {
   "cell_type": "code",
   "execution_count": 31,
   "id": "0f5c959b-7bb3-4a8c-960c-8e12d30c7576",
   "metadata": {},
   "outputs": [
    {
     "name": "stdout",
     "output_type": "stream",
     "text": [
      "    age         workclass     education  educationno       maritalstatus  \\\n",
      "0    39         State-gov     Bachelors           13       Never-married   \n",
      "1    50  Self-emp-not-inc     Bachelors           13  Married-civ-spouse   \n",
      "2    38           Private       HS-grad            9            Divorced   \n",
      "3    53           Private          11th            7  Married-civ-spouse   \n",
      "4    28           Private     Bachelors           13  Married-civ-spouse   \n",
      "..  ...               ...           ...          ...                 ...   \n",
      "95   20           Private  Some-college           10       Never-married   \n",
      "96   29           Private       HS-grad            9       Never-married   \n",
      "97   32      Self-emp-inc       HS-grad            9  Married-civ-spouse   \n",
      "98   30           Private          11th            7       Never-married   \n",
      "99   31         Local-gov       HS-grad            9                 NaN   \n",
      "\n",
      "           occupation   relationship   race     sex  capitalgain  capitalloss  \\\n",
      "0        Adm-clerical  Not-in-family  White    Male         2174            0   \n",
      "1     Exec-managerial        Husband  White    Male            0            0   \n",
      "2   Handlers-cleaners  Not-in-family  White    Male            0            0   \n",
      "3   Handlers-cleaners        Husband  Black    Male            0            0   \n",
      "4      Prof-specialty           Wife  Black  Female            0            0   \n",
      "..                ...            ...    ...     ...          ...          ...   \n",
      "95       Tech-support      Own-child  White  Female            0            0   \n",
      "96       Craft-repair  Not-in-family  White    Male            0            0   \n",
      "97       Craft-repair        Husband  White    Male         7688            0   \n",
      "98  Handlers-cleaners      Own-child  White    Male            0            0   \n",
      "99       Adm-clerical  Not-in-family  White  Female            0            0   \n",
      "\n",
      "    hoursperweek         native  criminal  \n",
      "0           40.0  United-States         0  \n",
      "1           13.0  United-States         0  \n",
      "2           40.0  United-States         0  \n",
      "3           40.0  United-States         0  \n",
      "4           40.0           Cuba         0  \n",
      "..           ...            ...       ...  \n",
      "95          40.0  United-States         0  \n",
      "96          40.0  United-States         0  \n",
      "97          40.0  United-States         1  \n",
      "98          40.0  United-States         0  \n",
      "99          40.0  United-States         0  \n",
      "\n",
      "[100 rows x 14 columns]\n"
     ]
    }
   ],
   "source": [
    "df = df.drop('Possibility', axis=1)\n",
    "print(df.head(100))"
   ]
  },
  {
   "cell_type": "code",
   "execution_count": null,
   "id": "5b722888-0dd6-41a7-a651-5d2c9dd7a49a",
   "metadata": {},
   "outputs": [],
   "source": []
  },
  {
   "cell_type": "code",
   "execution_count": null,
   "id": "ccf5ed8d-f883-46f6-9740-95e49e968f22",
   "metadata": {},
   "outputs": [],
   "source": []
  }
 ],
 "metadata": {
  "kernelspec": {
   "display_name": "Python 3 (ipykernel)",
   "language": "python",
   "name": "python3"
  },
  "language_info": {
   "codemirror_mode": {
    "name": "ipython",
    "version": 3
   },
   "file_extension": ".py",
   "mimetype": "text/x-python",
   "name": "python",
   "nbconvert_exporter": "python",
   "pygments_lexer": "ipython3",
   "version": "3.10.12"
  }
 },
 "nbformat": 4,
 "nbformat_minor": 5
}
